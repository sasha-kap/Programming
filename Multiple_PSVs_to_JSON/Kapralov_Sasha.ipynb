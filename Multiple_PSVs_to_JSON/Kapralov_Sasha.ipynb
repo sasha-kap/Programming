{
 "cells": [
  {
   "cell_type": "markdown",
   "metadata": {},
   "source": [
    "Purpose of code:\n",
    "1) Produce a series of JSONs, one per patient, representing that patient's complete health record\n",
    "(demographic information and a list of events)\n",
    "2) Compute statistics on the data:\n",
    "    a) Total number of valid patients\n",
    "    b) Maximum/Minimun/Median length of patient timelines in days\n",
    "    c) Count of males and females\n",
    "    d) Maximum/Minimum/Median age of patient as calculated between birthdate andlast event in timeline\n",
    "\n",
    "Input:\n",
    "1) demo.psv (contains patient demographics)\n",
    "2) events.psv (contains dates and medical events in an individual patient's timeline)\n",
    "\n",
    "Output:\n",
    "1) patients.json (contains a series of JSONs with patients' complete health records)\n",
    "2) Print-out of statistics on the eligible patient population\n",
    "\n",
    "Program logic:\n",
    "1) To include only patients who have demographic information, the list of patient_id's in the demographics table is\n",
    "used as the master list of patients for whom events information is located and added.\n",
    "2) If a patient's record is missing either gender or age, that patient is excluded.\n",
    "3) To include only patients who have at least one event with complete information (date, code, system) and only events\n",
    "that meet the same completeness criteria, a dictionary of valid events is created and then patients are excluded if\n",
    "they are not found in that dictionary.  If they are found, their valid event information is added to the demographics\n",
    "information."
   ]
  },
  {
   "cell_type": "code",
   "execution_count": 1,
   "metadata": {
    "collapsed": true
   },
   "outputs": [],
   "source": [
    "import csv\n",
    "import json\n",
    "from collections import defaultdict\n",
    "from datetime import datetime\n",
    "import sys"
   ]
  },
  {
   "cell_type": "markdown",
   "metadata": {},
   "source": [
    "### PART 1: CREATION OF JSON"
   ]
  },
  {
   "cell_type": "code",
   "execution_count": 2,
   "metadata": {
    "collapsed": false
   },
   "outputs": [
    {
     "name": "stdout",
     "output_type": "stream",
     "text": [
      "Check completed: No duplicate IDs in demographics table\n"
     ]
    }
   ],
   "source": [
    "#first, check that there are no duplicate patient_id values in the demographics table\n",
    "#also, generate master list of patient_ids from demographics table for later use\n",
    "all_ids = [] #list to contain master list of patient_ids from demographics table\n",
    "duplicate_ids = []\n",
    "with open('demo.psv', 'rb') as demo:\n",
    "    next(demo) #skip header row\n",
    "    for line in demo:\n",
    "        columns = line.strip().split('|')\n",
    "        if columns[0] not in all_ids:\n",
    "            all_ids.append(columns[0])\n",
    "        else:\n",
    "            duplicate_ids.append(columns[0])\n",
    "if len(duplicate_ids) == 0:\n",
    "    print \"Check completed: No duplicate IDs in demographics table\"\n",
    "else:\n",
    "    print \"Review and reconcile duplicate patient_ids in demographics table before proceeding\"\n",
    "    sys.exit()"
   ]
  },
  {
   "cell_type": "code",
   "execution_count": 3,
   "metadata": {
    "collapsed": false
   },
   "outputs": [],
   "source": [
    "#create separate dictionaries of birthdays and genders from demographics table\n",
    "with open('demo.psv') as f:\n",
    "    next(f) #skip header row\n",
    "    r = csv.reader(f, delimiter='|')\n",
    "    gender_dict = {row[0]: row[2] for row in r}\n",
    "\n",
    "with open('demo.psv') as f:\n",
    "    next(f) #skip header row\n",
    "    r = csv.reader(f, delimiter='|')\n",
    "    dob_dict = {row[0]: row[1] for row in r}"
   ]
  },
  {
   "cell_type": "code",
   "execution_count": 4,
   "metadata": {
    "collapsed": false
   },
   "outputs": [
    {
     "data": {
      "text/plain": [
       "[['id-972', '2015-09-21', '9', '367.0'],\n",
       " ['id-1485', '2016-02-08', '10', ''],\n",
       " ['id-605', '2015-02-09', '9', '367.4'],\n",
       " ['id-605', '2015-09-15', '9', '367.4'],\n",
       " ['id-2398', '2016-01-22', '10', '']]"
      ]
     },
     "execution_count": 4,
     "metadata": {},
     "output_type": "execute_result"
    }
   ],
   "source": [
    "#create a list of patient-event lists\n",
    "with open('events.psv') as f:\n",
    "    next(f) #skip header row\n",
    "    events_list = list(csv.reader(f, delimiter='|'))\n",
    "events_list[:5]"
   ]
  },
  {
   "cell_type": "code",
   "execution_count": 5,
   "metadata": {
    "collapsed": false
   },
   "outputs": [
    {
     "data": {
      "text/plain": [
       "[['id-972', '2015-09-21', '9', '367.0'],\n",
       " ['id-605', '2015-02-09', '9', '367.4'],\n",
       " ['id-605', '2015-09-15', '9', '367.4'],\n",
       " ['id-2342', '2015-04-17', '9', 'V72.0'],\n",
       " ['id-657', '2015-07-17', '9', 'V72.0']]"
      ]
     },
     "execution_count": 5,
     "metadata": {},
     "output_type": "execute_result"
    }
   ],
   "source": [
    "#check for any events that are missing a code, date or ICD system and remove them\n",
    "events_list = [event for event in events_list if (event[1] != '') & (event[2] != '') & (event[3] != '')]\n",
    "events_list[:5]"
   ]
  },
  {
   "cell_type": "code",
   "execution_count": 6,
   "metadata": {
    "collapsed": true
   },
   "outputs": [],
   "source": [
    "#convert above list of lists to a dictionary with unique patient_id keys\n",
    "events_dict = defaultdict(list)\n",
    "for event in events_list:\n",
    "    events_dict[event[0]] += event[1:]"
   ]
  },
  {
   "cell_type": "code",
   "execution_count": 7,
   "metadata": {
    "collapsed": false
   },
   "outputs": [],
   "source": [
    "#create dictionary to hold demographic and event information for all eligible patients and events\n",
    "complete_dict = {}\n",
    "\n",
    "#loop over patients in demographics table and generate their dictionary of demographic and event information\n",
    "for patient_id in all_ids:\n",
    "    #check that both birth date and gender are present and that patient has at least one event with code\n",
    "    #exit loop if not, without creating patient dictionary, and continue to next patient\n",
    "    if (dob_dict[patient_id] == '') | (gender_dict[patient_id] == '') | (patient_id not in events_dict):\n",
    "        continue\n",
    "    #create dictionary and populate it with demographic and event information for patient\n",
    "    patient_dict = {}\n",
    "    patient_dict['birth date'] = dob_dict[patient_id]\n",
    "    patient_dict['gender'] = gender_dict[patient_id]\n",
    "    #create empty list of events for single patient\n",
    "    patient_dict['events'] = []\n",
    "    #look up patient_id in events_dict and loop over 3-element groups of info for all events for this patient\n",
    "    #to create separate event dictionaries\n",
    "    for event_counter in range(len(events_dict[patient_id]) / 3):\n",
    "        indiv_event_dict = {}\n",
    "        indiv_event_dict['date'] = events_dict[patient_id][event_counter * 3]\n",
    "        if events_dict[patient_id][event_counter * 3 + 1] == '9':\n",
    "            indiv_event_dict['system'] = 'http://hl7.org/fhir/sid/icd-9-cm'\n",
    "        elif events_dict[patient_id][event_counter * 3 + 1] == '10':\n",
    "            indiv_event_dict['system'] = 'http://hl7.org/fhir/sid/icd-10'\n",
    "        indiv_event_dict['code'] = events_dict[patient_id][event_counter * 3 + 2]\n",
    "        #add this indiv_event_dict to events list\n",
    "        patient_dict['events'].append(indiv_event_dict)\n",
    "    #add this patient to the complete dictionary of all patients\n",
    "    complete_dict[patient_id] = patient_dict"
   ]
  },
  {
   "cell_type": "code",
   "execution_count": 8,
   "metadata": {
    "collapsed": false
   },
   "outputs": [
    {
     "data": {
      "text/plain": [
       "{'birth date': '1975-09-13',\n",
       " 'events': [{'code': '726.31',\n",
       "   'date': '2013-09-23',\n",
       "   'system': 'http://hl7.org/fhir/sid/icd-9-cm'},\n",
       "  {'code': '462',\n",
       "   'date': '2014-11-11',\n",
       "   'system': 'http://hl7.org/fhir/sid/icd-9-cm'},\n",
       "  {'code': '034.0',\n",
       "   'date': '2014-08-01',\n",
       "   'system': 'http://hl7.org/fhir/sid/icd-9-cm'},\n",
       "  {'code': '702.19',\n",
       "   'date': '2013-01-16',\n",
       "   'system': 'http://hl7.org/fhir/sid/icd-9-cm'},\n",
       "  {'code': '709.09',\n",
       "   'date': '2013-01-16',\n",
       "   'system': 'http://hl7.org/fhir/sid/icd-9-cm'},\n",
       "  {'code': '034.0',\n",
       "   'date': '2014-11-10',\n",
       "   'system': 'http://hl7.org/fhir/sid/icd-9-cm'}],\n",
       " 'gender': 'M'}"
      ]
     },
     "execution_count": 8,
     "metadata": {},
     "output_type": "execute_result"
    }
   ],
   "source": [
    "#print an example of one patient record in the complete dictionary\n",
    "complete_dict['id-743']"
   ]
  },
  {
   "cell_type": "code",
   "execution_count": 9,
   "metadata": {
    "collapsed": false
   },
   "outputs": [],
   "source": [
    "#convert complete dictionary to JSON file\n",
    "with open('patients.json', 'a') as outfile:\n",
    "    outfile.write(json.dumps(complete_dict, sort_keys=True, indent=4))"
   ]
  },
  {
   "cell_type": "markdown",
   "metadata": {},
   "source": [
    "### PART 2: STATISTICS "
   ]
  },
  {
   "cell_type": "code",
   "execution_count": 10,
   "metadata": {
    "collapsed": false
   },
   "outputs": [
    {
     "name": "stdout",
     "output_type": "stream",
     "text": [
      "Total number of valid patients is 352.\n"
     ]
    }
   ],
   "source": [
    "#calculate total number of valid patients\n",
    "print \"Total number of valid patients is {}.\".format(len(complete_dict))"
   ]
  },
  {
   "cell_type": "code",
   "execution_count": 11,
   "metadata": {
    "collapsed": false
   },
   "outputs": [
    {
     "name": "stdout",
     "output_type": "stream",
     "text": [
      "Number of males is 162 and number of females is 190.\n",
      "There is/are 0 patients with another recorded gender.\n"
     ]
    }
   ],
   "source": [
    "#calculate counts of males and females\n",
    "male_ct = 0\n",
    "female_ct = 0\n",
    "other_gender_ct = 0\n",
    "for patient_dict in complete_dict.values():\n",
    "    if patient_dict['gender'] == 'M':\n",
    "        male_ct += 1\n",
    "    elif patient_dict['gender'] == 'F':\n",
    "        female_ct += 1\n",
    "    else:\n",
    "        other_gender_ct += 1\n",
    "print \"Number of males is {} and number of females is {}.\".format(male_ct, female_ct)\n",
    "print \"There is/are {} patients with another recorded gender.\".format(other_gender_ct)"
   ]
  },
  {
   "cell_type": "code",
   "execution_count": 12,
   "metadata": {
    "collapsed": false
   },
   "outputs": [
    {
     "data": {
      "text/plain": [
       "[1, 769, 1, 1, 1, 4, 1, 115, 1, 3]"
      ]
     },
     "execution_count": 12,
     "metadata": {},
     "output_type": "execute_result"
    }
   ],
   "source": [
    "#create a list of all lengths of patient timelines\n",
    "#also create a list of all ages as of the last event in timeline\n",
    "timelines_in_days = []\n",
    "ages = []\n",
    "for patient_dict in complete_dict.values():\n",
    "    for ctr, event in enumerate(patient_dict['events']):\n",
    "        event_dt = datetime.strptime(event['date'], '%Y-%m-%d')\n",
    "        if ctr == 0:\n",
    "            earliest_dt = event_dt\n",
    "            latest_dt = event_dt\n",
    "        else:\n",
    "            if event_dt < earliest_dt:\n",
    "                earliest_dt = event_dt\n",
    "            elif event_dt > latest_dt:\n",
    "                latest_dt = event_dt\n",
    "        #at last event, calculate days contained between earliest and latest days and patient's age\n",
    "        if ctr == len(patient_dict['events']) - 1:\n",
    "            days = (latest_dt - earliest_dt).days + 1\n",
    "            timelines_in_days.append(days)\n",
    "            birth_dt = datetime.strptime(patient_dict['birth date'], '%Y-%m-%d')\n",
    "            age = latest_dt.year - birth_dt.year - ((latest_dt.month, latest_dt.day) < (birth_dt.month, birth_dt.day))\n",
    "            ages.append(age)\n",
    "timelines_in_days[:10]"
   ]
  },
  {
   "cell_type": "code",
   "execution_count": 13,
   "metadata": {
    "collapsed": false
   },
   "outputs": [
    {
     "data": {
      "text/plain": [
       "[80, 14, 76, 56, 86, 48, 57, 28, 74, 62]"
      ]
     },
     "execution_count": 13,
     "metadata": {},
     "output_type": "execute_result"
    }
   ],
   "source": [
    "ages[:10]"
   ]
  },
  {
   "cell_type": "code",
   "execution_count": 14,
   "metadata": {
    "collapsed": false
   },
   "outputs": [
    {
     "name": "stdout",
     "output_type": "stream",
     "text": [
      "Minumum length of patient timelines is 1 day(s) and maximum length is 985 day(s).\n"
     ]
    }
   ],
   "source": [
    "#compute minimum and maximum length of patient timelines in days\n",
    "timelines_sorted = sorted(timelines_in_days)\n",
    "min_length = timelines_sorted[0]\n",
    "max_length = timelines_sorted[-1]\n",
    "print \"Minumum length of patient timelines is {} day(s) and maximum length is {} day(s).\".format(min_length, max_length)"
   ]
  },
  {
   "cell_type": "code",
   "execution_count": 15,
   "metadata": {
    "collapsed": false
   },
   "outputs": [
    {
     "name": "stdout",
     "output_type": "stream",
     "text": [
      "Median length of patient timelines is 1 day(s).\n"
     ]
    }
   ],
   "source": [
    "#compute median length of patient timelines in days\n",
    "if len(timelines_sorted) % 2 == 1:\n",
    "    median_length = timelines_sorted[len(timelines_sorted)//2]\n",
    "else:\n",
    "    median_length = sum(timelines_sorted[len(timelines_sorted)//2-1:len(timelines_sorted)//2+1])/2\n",
    "print \"Median length of patient timelines is {} day(s).\".format(median_length)"
   ]
  },
  {
   "cell_type": "code",
   "execution_count": 16,
   "metadata": {
    "collapsed": false
   },
   "outputs": [
    {
     "name": "stdout",
     "output_type": "stream",
     "text": [
      "Minimum age is 2 years, maximum age is 92 years, and median age is 62 years.\n"
     ]
    }
   ],
   "source": [
    "#Maximum/Minimum/Median age of patient (in years) as calculated between birthdate and last event in timeline\n",
    "ages_sorted = sorted(ages)\n",
    "min_age = ages_sorted[0]\n",
    "max_age = ages_sorted[-1]\n",
    "\n",
    "if len(ages_sorted) % 2 == 1:\n",
    "    median_age = ages_sorted[len(ages_sorted)//2]\n",
    "else:\n",
    "    median_age = sum(ages_sorted[len(ages_sorted)//2-1:len(ages_sorted)//2+1])/2\n",
    "\n",
    "print \"Minimum age is {} years, maximum age is {} years, and median age is {} years.\".format(min_age, max_age, median_age)"
   ]
  }
 ],
 "metadata": {
  "anaconda-cloud": {},
  "kernelspec": {
   "display_name": "Python [conda env:dsi]",
   "language": "python",
   "name": "conda-env-dsi-py"
  },
  "language_info": {
   "codemirror_mode": {
    "name": "ipython",
    "version": 2
   },
   "file_extension": ".py",
   "mimetype": "text/x-python",
   "name": "python",
   "nbconvert_exporter": "python",
   "pygments_lexer": "ipython2",
   "version": "2.7.12"
  }
 },
 "nbformat": 4,
 "nbformat_minor": 1
}
