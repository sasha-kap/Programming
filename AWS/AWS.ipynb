{
 "cells": [
  {
   "cell_type": "code",
   "execution_count": 1,
   "metadata": {},
   "outputs": [],
   "source": [
    "import boto3"
   ]
  },
  {
   "cell_type": "markdown",
   "metadata": {},
   "source": [
    "### Display a list of AWS S3 buckets"
   ]
  },
  {
   "cell_type": "code",
   "execution_count": 2,
   "metadata": {},
   "outputs": [],
   "source": [
    "# Create an S3 client\n",
    "s3 = boto3.client('s3')"
   ]
  },
  {
   "cell_type": "code",
   "execution_count": 3,
   "metadata": {},
   "outputs": [],
   "source": [
    "# Call S3 to list current buckets\n",
    "response = s3.list_buckets()"
   ]
  },
  {
   "cell_type": "code",
   "execution_count": 4,
   "metadata": {},
   "outputs": [],
   "source": [
    "# Get a list of all bucket names from the response\n",
    "buckets = [bucket['Name'] for bucket in response['Buckets']]"
   ]
  },
  {
   "cell_type": "code",
   "execution_count": 5,
   "metadata": {},
   "outputs": [
    {
     "name": "stdout",
     "output_type": "stream",
     "text": [
      "Bucket List: ['road-trips']\n"
     ]
    }
   ],
   "source": [
    "# Print out the bucket list\n",
    "print(\"Bucket List: %s\" % buckets)"
   ]
  },
  {
   "cell_type": "code",
   "execution_count": null,
   "metadata": {},
   "outputs": [],
   "source": []
  },
  {
   "cell_type": "code",
   "execution_count": 7,
   "metadata": {},
   "outputs": [
    {
     "name": "stdout",
     "output_type": "stream",
     "text": [
      "{'TextDetections': [{'DetectedText': 'DISTRICT OF COLUMBIA', 'Type': 'LINE', 'Id': 0, 'Confidence': 99.83846282958984, 'Geometry': {'BoundingBox': {'Width': 0.8551766872406006, 'Height': 0.08189552277326584, 'Left': 0.12758195400238037, 'Top': 0.06818182021379471}, 'Polygon': [{'X': 0.12758195400238037, 'Y': 0.06818182021379471}, {'X': 0.982758641242981, 'Y': 0.06810447573661804}, {'X': 0.98276287317276, 'Y': 0.15000000596046448}, {'X': 0.1275862157344818, 'Y': 0.15007734298706055}]}}, {'DetectedText': 'ELEVATION: 26 M', 'Type': 'LINE', 'Id': 1, 'Confidence': 99.70556640625, 'Geometry': {'BoundingBox': {'Width': 0.5932831764221191, 'Height': 0.0790286436676979, 'Left': 0.12759043276309967, 'Top': 0.37097057700157166}, 'Polygon': [{'X': 0.12759043276309967, 'Y': 0.37097057700157166}, {'X': 0.7208735942840576, 'Y': 0.3734480142593384}, {'X': 0.7206836938858032, 'Y': 0.4524766504764557}, {'X': 0.1274005025625229, 'Y': 0.44999921321868896}]}}, {'DetectedText': 'HEADING: 127 (T)', 'Type': 'LINE', 'Id': 2, 'Confidence': 95.76348876953125, 'Geometry': {'BoundingBox': {'Width': 0.6105126738548279, 'Height': 0.08668531477451324, 'Left': 0.12414214015007019, 'Top': 0.5206146240234375}, 'Polygon': [{'X': 0.12414214015007019, 'Y': 0.5206146240234375}, {'X': 0.7346547842025757, 'Y': 0.5227278470993042}, {'X': 0.7344821095466614, 'Y': 0.609413206577301}, {'X': 0.12396945804357529, 'Y': 0.6072999238967896}]}}, {'DetectedText': 'DATE: 5/3/18', 'Type': 'LINE', 'Id': 3, 'Confidence': 95.64659881591797, 'Geometry': {'BoundingBox': {'Width': 0.4277992248535156, 'Height': 0.08284037560224533, 'Left': 0.12414322048425674, 'Top': 0.6752902865409851}, 'Polygon': [{'X': 0.12414322048425674, 'Y': 0.6752902865409851}, {'X': 0.5519424676895142, 'Y': 0.6772737503051758}, {'X': 0.5517213940620422, 'Y': 0.7601141333580017}, {'X': 0.12392217665910721, 'Y': 0.758130669593811}]}}, {'DetectedText': 'TIME: 5:54:27 AM', 'Type': 'LINE', 'Id': 4, 'Confidence': 98.88648986816406, 'Geometry': {'BoundingBox': {'Width': 0.56569504737854, 'Height': 0.079091876745224, 'Left': 0.12414225190877914, 'Top': 0.8254528045654297}, 'Polygon': [{'X': 0.12414225190877914, 'Y': 0.8254528045654297}, {'X': 0.6898373365402222, 'Y': 0.827785313129425}, {'X': 0.6896496415138245, 'Y': 0.9068772196769714}, {'X': 0.12395456433296204, 'Y': 0.9045447111129761}]}}, {'DetectedText': 'DISTRICT', 'Type': 'WORD', 'Id': 5, 'ParentId': 0, 'Confidence': 99.79618072509766, 'Geometry': {'BoundingBox': {'Width': 0.3379310369491577, 'Height': 0.08181817829608917, 'Left': 0.12758620083332062, 'Top': 0.06818182021379471}, 'Polygon': [{'X': 0.12758620083332062, 'Y': 0.06818182021379471}, {'X': 0.4655172526836395, 'Y': 0.06818182021379471}, {'X': 0.4655172526836395, 'Y': 0.15000000596046448}, {'X': 0.12758620083332062, 'Y': 0.15000000596046448}]}}, {'DetectedText': 'OF', 'Type': 'WORD', 'Id': 6, 'ParentId': 0, 'Confidence': 99.74888610839844, 'Geometry': {'BoundingBox': {'Width': 0.1068965494632721, 'Height': 0.07727272808551788, 'Left': 0.4793103337287903, 'Top': 0.072727270424366}, 'Polygon': [{'X': 0.4793103337287903, 'Y': 0.072727270424366}, {'X': 0.5862069129943848, 'Y': 0.072727270424366}, {'X': 0.5862069129943848, 'Y': 0.15000000596046448}, {'X': 0.4793103337287903, 'Y': 0.15000000596046448}]}}, {'DetectedText': 'COLUMBIA', 'Type': 'WORD', 'Id': 7, 'ParentId': 0, 'Confidence': 99.97032928466797, 'Geometry': {'BoundingBox': {'Width': 0.38275861740112305, 'Height': 0.08181817829608917, 'Left': 0.6000000238418579, 'Top': 0.06818182021379471}, 'Polygon': [{'X': 0.6000000238418579, 'Y': 0.06818182021379471}, {'X': 0.982758641242981, 'Y': 0.06818182021379471}, {'X': 0.982758641242981, 'Y': 0.15000000596046448}, {'X': 0.6000000238418579, 'Y': 0.15000000596046448}]}}, {'DetectedText': 'ELEVATION:', 'Type': 'WORD', 'Id': 8, 'ParentId': 1, 'Confidence': 99.93478393554688, 'Geometry': {'BoundingBox': {'Width': 0.4206896424293518, 'Height': 0.07727272808551788, 'Left': 0.12758620083332062, 'Top': 0.37272727489471436}, 'Polygon': [{'X': 0.12758620083332062, 'Y': 0.37272727489471436}, {'X': 0.548275887966156, 'Y': 0.37272727489471436}, {'X': 0.548275887966156, 'Y': 0.44999998807907104}, {'X': 0.12758620083332062, 'Y': 0.44999998807907104}]}}, {'DetectedText': '26', 'Type': 'WORD', 'Id': 9, 'ParentId': 1, 'Confidence': 99.82323455810547, 'Geometry': {'BoundingBox': {'Width': 0.08275862038135529, 'Height': 0.072727270424366, 'Left': 0.5551724433898926, 'Top': 0.37727272510528564}, 'Polygon': [{'X': 0.5551724433898926, 'Y': 0.37727272510528564}, {'X': 0.6379310488700867, 'Y': 0.37727272510528564}, {'X': 0.6379310488700867, 'Y': 0.44999998807907104}, {'X': 0.5551724433898926, 'Y': 0.44999998807907104}]}}, {'DetectedText': 'M', 'Type': 'WORD', 'Id': 10, 'ParentId': 1, 'Confidence': 99.35868072509766, 'Geometry': {'BoundingBox': {'Width': 0.07241379469633102, 'Height': 0.072727270424366, 'Left': 0.6482758522033691, 'Top': 0.37727272510528564}, 'Polygon': [{'X': 0.6482758522033691, 'Y': 0.37727272510528564}, {'X': 0.7206896543502808, 'Y': 0.37727272510528564}, {'X': 0.7206896543502808, 'Y': 0.44999998807907104}, {'X': 0.6482758522033691, 'Y': 0.44999998807907104}]}}, {'DetectedText': 'HEADING:', 'Type': 'WORD', 'Id': 11, 'ParentId': 2, 'Confidence': 95.2237548828125, 'Geometry': {'BoundingBox': {'Width': 0.341379314661026, 'Height': 0.08181817829608917, 'Left': 0.12413793057203293, 'Top': 0.5227272510528564}, 'Polygon': [{'X': 0.12413793057203293, 'Y': 0.5227272510528564}, {'X': 0.4655172526836395, 'Y': 0.5227272510528564}, {'X': 0.4655172526836395, 'Y': 0.6045454740524292}, {'X': 0.12413793057203293, 'Y': 0.6045454740524292}]}}, {'DetectedText': '127', 'Type': 'WORD', 'Id': 12, 'ParentId': 2, 'Confidence': 99.31819152832031, 'Geometry': {'BoundingBox': {'Width': 0.15172414481639862, 'Height': 0.08181817829608917, 'Left': 0.48275861144065857, 'Top': 0.5227272510528564}, 'Polygon': [{'X': 0.48275861144065857, 'Y': 0.5227272510528564}, {'X': 0.634482741355896, 'Y': 0.5227272510528564}, {'X': 0.634482741355896, 'Y': 0.6045454740524292}, {'X': 0.48275861144065857, 'Y': 0.6045454740524292}]}}, {'DetectedText': '(T)', 'Type': 'WORD', 'Id': 13, 'ParentId': 2, 'Confidence': 92.74851989746094, 'Geometry': {'BoundingBox': {'Width': 0.09310344606637955, 'Height': 0.08636363595724106, 'Left': 0.6413792967796326, 'Top': 0.5227272510528564}, 'Polygon': [{'X': 0.6413792967796326, 'Y': 0.5227272510528564}, {'X': 0.7344827651977539, 'Y': 0.5227272510528564}, {'X': 0.7344827651977539, 'Y': 0.6090909242630005}, {'X': 0.6413792967796326, 'Y': 0.6090909242630005}]}}, {'DetectedText': 'DATE:', 'Type': 'WORD', 'Id': 14, 'ParentId': 3, 'Confidence': 96.56623840332031, 'Geometry': {'BoundingBox': {'Width': 0.21039393544197083, 'Height': 0.07734962552785873, 'Left': 0.12413793057203293, 'Top': 0.6772727370262146}, 'Polygon': [{'X': 0.12413793057203293, 'Y': 0.6772727370262146}, {'X': 0.33448275923728943, 'Y': 0.6818181872367859}, {'X': 0.33103448152542114, 'Y': 0.7590909004211426}, {'X': 0.12413793057203293, 'Y': 0.7545454502105713}]}}, {'DetectedText': '5/3/18', 'Type': 'WORD', 'Id': 15, 'ParentId': 3, 'Confidence': 94.72695922851562, 'Geometry': {'BoundingBox': {'Width': 0.20344828069210052, 'Height': 0.08181817829608917, 'Left': 0.3482758700847626, 'Top': 0.6772727370262146}, 'Polygon': [{'X': 0.3482758700847626, 'Y': 0.6772727370262146}, {'X': 0.5517241358757019, 'Y': 0.6772727370262146}, {'X': 0.5517241358757019, 'Y': 0.7590909004211426}, {'X': 0.3482758700847626, 'Y': 0.7590909004211426}]}}, {'DetectedText': 'TIME:', 'Type': 'WORD', 'Id': 16, 'ParentId': 4, 'Confidence': 99.83889770507812, 'Geometry': {'BoundingBox': {'Width': 0.1862068921327591, 'Height': 0.07727272808551788, 'Left': 0.12413793057203293, 'Top': 0.8272727131843567}, 'Polygon': [{'X': 0.12413793057203293, 'Y': 0.8272727131843567}, {'X': 0.3103448152542114, 'Y': 0.8272727131843567}, {'X': 0.3103448152542114, 'Y': 0.9045454263687134}, {'X': 0.12413793057203293, 'Y': 0.9045454263687134}]}}, {'DetectedText': '5:54:27', 'Type': 'WORD', 'Id': 17, 'ParentId': 4, 'Confidence': 99.54513549804688, 'Geometry': {'BoundingBox': {'Width': 0.24137930572032928, 'Height': 0.07727272808551788, 'Left': 0.32413792610168457, 'Top': 0.8272727131843567}, 'Polygon': [{'X': 0.32413792610168457, 'Y': 0.8272727131843567}, {'X': 0.565517246723175, 'Y': 0.8272727131843567}, {'X': 0.565517246723175, 'Y': 0.9045454263687134}, {'X': 0.32413792610168457, 'Y': 0.9045454263687134}]}}, {'DetectedText': 'AM', 'Type': 'WORD', 'Id': 18, 'ParentId': 4, 'Confidence': 97.27544403076172, 'Geometry': {'BoundingBox': {'Width': 0.12068965286016464, 'Height': 0.072727270424366, 'Left': 0.568965494632721, 'Top': 0.831818163394928}, 'Polygon': [{'X': 0.568965494632721, 'Y': 0.831818163394928}, {'X': 0.6896551847457886, 'Y': 0.831818163394928}, {'X': 0.6896551847457886, 'Y': 0.9045454263687134}, {'X': 0.568965494632721, 'Y': 0.9045454263687134}]}}], 'ResponseMetadata': {'RequestId': '4a7a0c02-1304-11e9-b3f1-4521465a58f1', 'HTTPStatusCode': 200, 'HTTPHeaders': {'content-type': 'application/x-amz-json-1.1', 'date': 'Tue, 08 Jan 2019 05:14:37 GMT', 'x-amzn-requestid': '4a7a0c02-1304-11e9-b3f1-4521465a58f1', 'content-length': '8229', 'connection': 'keep-alive'}, 'RetryAttempts': 0}}\n",
      "Detected Text\n",
      "Detected text:DISTRICT OF COLUMBIA\n",
      "Confidence:99.84%\n",
      "Id: 0\n",
      "Type:LINE\n",
      "\n",
      "Detected text:ELEVATION: 26 M\n",
      "Confidence:99.71%\n",
      "Id: 1\n",
      "Type:LINE\n",
      "\n",
      "Detected text:HEADING: 127 (T)\n",
      "Confidence:95.76%\n",
      "Id: 2\n",
      "Type:LINE\n",
      "\n",
      "Detected text:DATE: 5/3/18\n",
      "Confidence:95.65%\n",
      "Id: 3\n",
      "Type:LINE\n",
      "\n",
      "Detected text:TIME: 5:54:27 AM\n",
      "Confidence:98.89%\n",
      "Id: 4\n",
      "Type:LINE\n",
      "\n",
      "Detected text:DISTRICT\n",
      "Confidence:99.80%\n",
      "Id: 5\n",
      "Parent Id: 0\n",
      "Type:WORD\n",
      "\n",
      "Detected text:OF\n",
      "Confidence:99.75%\n",
      "Id: 6\n",
      "Parent Id: 0\n",
      "Type:WORD\n",
      "\n",
      "Detected text:COLUMBIA\n",
      "Confidence:99.97%\n",
      "Id: 7\n",
      "Parent Id: 0\n",
      "Type:WORD\n",
      "\n",
      "Detected text:ELEVATION:\n",
      "Confidence:99.93%\n",
      "Id: 8\n",
      "Parent Id: 1\n",
      "Type:WORD\n",
      "\n",
      "Detected text:26\n",
      "Confidence:99.82%\n",
      "Id: 9\n",
      "Parent Id: 1\n",
      "Type:WORD\n",
      "\n",
      "Detected text:M\n",
      "Confidence:99.36%\n",
      "Id: 10\n",
      "Parent Id: 1\n",
      "Type:WORD\n",
      "\n",
      "Detected text:HEADING:\n",
      "Confidence:95.22%\n",
      "Id: 11\n",
      "Parent Id: 2\n",
      "Type:WORD\n",
      "\n",
      "Detected text:127\n",
      "Confidence:99.32%\n",
      "Id: 12\n",
      "Parent Id: 2\n",
      "Type:WORD\n",
      "\n",
      "Detected text:(T)\n",
      "Confidence:92.75%\n",
      "Id: 13\n",
      "Parent Id: 2\n",
      "Type:WORD\n",
      "\n",
      "Detected text:DATE:\n",
      "Confidence:96.57%\n",
      "Id: 14\n",
      "Parent Id: 3\n",
      "Type:WORD\n",
      "\n",
      "Detected text:5/3/18\n",
      "Confidence:94.73%\n",
      "Id: 15\n",
      "Parent Id: 3\n",
      "Type:WORD\n",
      "\n",
      "Detected text:TIME:\n",
      "Confidence:99.84%\n",
      "Id: 16\n",
      "Parent Id: 4\n",
      "Type:WORD\n",
      "\n",
      "Detected text:5:54:27\n",
      "Confidence:99.55%\n",
      "Id: 17\n",
      "Parent Id: 4\n",
      "Type:WORD\n",
      "\n",
      "Detected text:AM\n",
      "Confidence:97.28%\n",
      "Id: 18\n",
      "Parent Id: 4\n",
      "Type:WORD\n",
      "\n"
     ]
    }
   ],
   "source": [
    "bucket = 'road-trips'\n",
    "photo = 'frame46.jpg'\n",
    "\n",
    "client = boto3.client('rekognition')\n",
    "response = client.detect_text(Image={'S3Object':{'Bucket':bucket,'Name':photo}})\n",
    "textDetections = response['TextDetections']\n",
    "print(response)\n",
    "print('Detected Text')\n",
    "for text in textDetections:\n",
    "    print('Detected text:' + text['DetectedText'])\n",
    "    print('Confidence:' + \"{:.2f}\".format(text['Confidence']) + '%')\n",
    "    print('Id: {}'.format(text['Id']))\n",
    "    if 'ParentId' in text:\n",
    "        print('Parent Id: {}'.format(text['ParentId']))\n",
    "    print('Type:' + text['Type'])\n",
    "    print()"
   ]
  },
  {
   "cell_type": "code",
   "execution_count": null,
   "metadata": {},
   "outputs": [],
   "source": []
  }
 ],
 "metadata": {
  "kernelspec": {
   "display_name": "Python 3",
   "language": "python",
   "name": "python3"
  },
  "language_info": {
   "codemirror_mode": {
    "name": "ipython",
    "version": 3
   },
   "file_extension": ".py",
   "mimetype": "text/x-python",
   "name": "python",
   "nbconvert_exporter": "python",
   "pygments_lexer": "ipython3",
   "version": "3.6.6"
  }
 },
 "nbformat": 4,
 "nbformat_minor": 2
}
