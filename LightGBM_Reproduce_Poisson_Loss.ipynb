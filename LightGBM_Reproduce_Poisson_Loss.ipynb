{
  "nbformat": 4,
  "nbformat_minor": 0,
  "metadata": {
    "colab": {
      "name": "LightGBM_Reproduce_Poisson_Loss.ipynb",
      "provenance": [],
      "collapsed_sections": [],
      "authorship_tag": "ABX9TyP6V/4uZT1BRvHnWVjHMbWJ",
      "include_colab_link": true
    },
    "kernelspec": {
      "name": "python3",
      "display_name": "Python 3"
    },
    "language_info": {
      "name": "python"
    }
  },
  "cells": [
    {
      "cell_type": "markdown",
      "metadata": {
        "id": "view-in-github",
        "colab_type": "text"
      },
      "source": [
        "<a href=\"https://colab.research.google.com/github/sasha-kap/Programming/blob/master/LightGBM_Reproduce_Poisson_Loss.ipynb\" target=\"_parent\"><img src=\"https://colab.research.google.com/assets/colab-badge.svg\" alt=\"Open In Colab\"/></a>"
      ]
    },
    {
      "cell_type": "code",
      "metadata": {
        "id": "CXNckn2NB_ke"
      },
      "source": [
        "import lightgbm as lgb\n",
        "import matplotlib.pyplot as plt\n",
        "import numpy as np\n",
        "import pandas as pd"
      ],
      "execution_count": 1,
      "outputs": []
    },
    {
      "cell_type": "code",
      "metadata": {
        "colab": {
          "base_uri": "https://localhost:8080/"
        },
        "id": "xdWrUVty9HQ4",
        "outputId": "cc14de43-3608-4a2c-9047-6438701fff8d"
      },
      "source": [
        "print(f\"The LightGBM version is {lgb.__version__}.\")"
      ],
      "execution_count": 2,
      "outputs": [
        {
          "output_type": "stream",
          "name": "stdout",
          "text": [
            "The LightGBM version is 2.2.3.\n"
          ]
        }
      ]
    },
    {
      "cell_type": "markdown",
      "metadata": {
        "id": "GXx2LKN2TPaU"
      },
      "source": [
        "#### Define objective and evaluation functions\n",
        "\n",
        "\n",
        "\n",
        "\n"
      ]
    },
    {
      "cell_type": "code",
      "metadata": {
        "id": "vYd6T_JhA24o"
      },
      "source": [
        "def poisson_loss(y_true, y_pred):\n",
        "    \"\"\"Custom objective function that reproduces LightGBM's built-in Poisson\n",
        "    objective.\n",
        "\n",
        "    Parameters:\n",
        "    -----------\n",
        "    y_true : array-like of shape = [n_samples]\n",
        "        The target values\n",
        "    y_pred : array-like of shape = [n_samples]\n",
        "        The predicted values.\n",
        "        Predicted values are returned before any transformation, e.g. they are\n",
        "        raw margin instead of probability of positive class for binary task.\n",
        "\n",
        "    Returns:\n",
        "    --------\n",
        "    grad : array-like of shape = [n_samples]\n",
        "        The value of the first order derivative (gradient) of the loss with\n",
        "        respect to the elements of y_pred for each sample point.\n",
        "    hess : array-like of shape = [n_samples]\n",
        "        The value of the second order derivative (Hessian) of the loss with\n",
        "        respect to the elements of y_pred for each sample point.\n",
        "\n",
        "    Notes:\n",
        "    ------\n",
        "    0.7 is the default value of poisson_max_delta_step parameter used for\n",
        "    Poisson regression to safeguard optimization\n",
        "    (https://lightgbm.readthedocs.io/en/latest/Parameters.html)\n",
        "\n",
        "    This 0.7 value enters the hessian in this manner in the library's C++ code\n",
        "    (https://github.com/microsoft/LightGBM/blob/master/src/objective/regression_objective.hpp#L446)\n",
        "    \"\"\"\n",
        "    # loss here is the negative log-likelihood for Poisson regression\n",
        "    loss = np.exp(y_pred) - y_true * y_pred\n",
        "    grad = np.exp(y_pred) - y_true\n",
        "    hess = np.exp(y_pred + 0.7)\n",
        "\n",
        "    return grad, hess"
      ],
      "execution_count": 3,
      "outputs": []
    },
    {
      "cell_type": "code",
      "metadata": {
        "id": "QS_PcTkVVjkD"
      },
      "source": [
        "def poisson_eval_metric(y_true, y_pred):\n",
        "    \"\"\"Custom evaluation function that reproduces the results of LightGBM's\n",
        "    built-in Poisson evaluation metric (negative log-likelihood).\n",
        "\n",
        "    Parameters:\n",
        "    -----------\n",
        "    y_true : array-like of shape = [n_samples]\n",
        "        The target values\n",
        "    y_pred : array-like of shape = [n_samples]\n",
        "        The predicted values.\n",
        "        Predicted values are returned before any transformation, e.g. they are\n",
        "        raw margin instead of probability of positive class for binary task.\n",
        "\n",
        "    Returns:\n",
        "    --------\n",
        "    eval_name : str\n",
        "        The name of evaluation function (without whitespace)\n",
        "    eval_result : float\n",
        "        The eval result\n",
        "    is_higher_better : bool\n",
        "        Is eval result higher bettr, e.g., AUC is is_higher_better\n",
        "    \"\"\"\n",
        "    return 'poisson_metric', np.mean(np.exp(y_pred) - y_true * y_pred, axis=0), False"
      ],
      "execution_count": 4,
      "outputs": []
    },
    {
      "cell_type": "markdown",
      "metadata": {
        "id": "N46eWx4NWRcD"
      },
      "source": [
        "#### Create dataset for model"
      ]
    },
    {
      "cell_type": "code",
      "metadata": {
        "colab": {
          "base_uri": "https://localhost:8080/",
          "height": 204
        },
        "id": "zcESJSEnhHuW",
        "outputId": "fdb6863d-a8e8-44ea-e6bf-b723e8033596"
      },
      "source": [
        "n = 1000\n",
        "\n",
        "rng = np.random.RandomState(42)\n",
        "\n",
        "x1 = rng.uniform(0, 4, n)\n",
        "x2 = rng.uniform(0, 1.5, n)\n",
        "x3 = rng.normal(0, 3, n)\n",
        "\n",
        "mu = np.exp(1 - 0.2 * x1 - 0.3 * x2 - 0.01 * x3)\n",
        "y = rng.poisson(mu, size=n)\n",
        "\n",
        "df = pd.DataFrame({'y': y, 'x1': x1, 'x2': x2, 'x3': x3})\n",
        "df.head()"
      ],
      "execution_count": 5,
      "outputs": [
        {
          "output_type": "execute_result",
          "data": {
            "text/html": [
              "<div>\n",
              "<style scoped>\n",
              "    .dataframe tbody tr th:only-of-type {\n",
              "        vertical-align: middle;\n",
              "    }\n",
              "\n",
              "    .dataframe tbody tr th {\n",
              "        vertical-align: top;\n",
              "    }\n",
              "\n",
              "    .dataframe thead th {\n",
              "        text-align: right;\n",
              "    }\n",
              "</style>\n",
              "<table border=\"1\" class=\"dataframe\">\n",
              "  <thead>\n",
              "    <tr style=\"text-align: right;\">\n",
              "      <th></th>\n",
              "      <th>y</th>\n",
              "      <th>x1</th>\n",
              "      <th>x2</th>\n",
              "      <th>x3</th>\n",
              "    </tr>\n",
              "  </thead>\n",
              "  <tbody>\n",
              "    <tr>\n",
              "      <th>0</th>\n",
              "      <td>3</td>\n",
              "      <td>1.498160</td>\n",
              "      <td>0.277699</td>\n",
              "      <td>-2.633948</td>\n",
              "    </tr>\n",
              "    <tr>\n",
              "      <th>1</th>\n",
              "      <td>1</td>\n",
              "      <td>3.802857</td>\n",
              "      <td>0.812851</td>\n",
              "      <td>-2.480641</td>\n",
              "    </tr>\n",
              "    <tr>\n",
              "      <th>2</th>\n",
              "      <td>2</td>\n",
              "      <td>2.927976</td>\n",
              "      <td>1.309419</td>\n",
              "      <td>-0.679437</td>\n",
              "    </tr>\n",
              "    <tr>\n",
              "      <th>3</th>\n",
              "      <td>0</td>\n",
              "      <td>2.394634</td>\n",
              "      <td>1.098337</td>\n",
              "      <td>1.102097</td>\n",
              "    </tr>\n",
              "    <tr>\n",
              "      <th>4</th>\n",
              "      <td>1</td>\n",
              "      <td>0.624075</td>\n",
              "      <td>1.209842</td>\n",
              "      <td>2.740754</td>\n",
              "    </tr>\n",
              "  </tbody>\n",
              "</table>\n",
              "</div>"
            ],
            "text/plain": [
              "   y        x1        x2        x3\n",
              "0  3  1.498160  0.277699 -2.633948\n",
              "1  1  3.802857  0.812851 -2.480641\n",
              "2  2  2.927976  1.309419 -0.679437\n",
              "3  0  2.394634  1.098337  1.102097\n",
              "4  1  0.624075  1.209842  2.740754"
            ]
          },
          "metadata": {},
          "execution_count": 5
        }
      ]
    },
    {
      "cell_type": "code",
      "metadata": {
        "colab": {
          "base_uri": "https://localhost:8080/"
        },
        "id": "nVDYb5BtPzgL",
        "outputId": "729016b1-f9b5-4536-b079-65792738c001"
      },
      "source": [
        "df['y'].value_counts().sort_index()"
      ],
      "execution_count": 6,
      "outputs": [
        {
          "output_type": "execute_result",
          "data": {
            "text/plain": [
              "0    241\n",
              "1    341\n",
              "2    221\n",
              "3    126\n",
              "4     45\n",
              "5     19\n",
              "6      7\n",
              "Name: y, dtype: int64"
            ]
          },
          "metadata": {},
          "execution_count": 6
        }
      ]
    },
    {
      "cell_type": "markdown",
      "metadata": {
        "id": "lJ0RjE1gWf0Z"
      },
      "source": [
        "#### Run Poisson regression with built-in Poisson objective and evaluation functions"
      ]
    },
    {
      "cell_type": "code",
      "metadata": {
        "colab": {
          "base_uri": "https://localhost:8080/"
        },
        "id": "2Xjs83WVhdId",
        "outputId": "ff392e4a-f5a6-4657-ed17-4a6ea8a9ad24"
      },
      "source": [
        "model = lgb.LGBMRegressor(\n",
        "    objective='poisson',\n",
        "    learning_rate=0.1,\n",
        "    n_estimators=100\n",
        ")\n",
        "\n",
        "# using LightGBM's scikit-learn API\n",
        "# to make the results match, the init_score is set to the log of the mean of\n",
        "# the target values.\n",
        "model.fit(\n",
        "    df[['x1', 'x2', 'x3']].to_numpy(),\n",
        "    df['y'].to_numpy(),\n",
        "    init_score=np.repeat([np.log(np.mean(df['y']))], len(df['y'])),\n",
        "    eval_set=[(df[['x1', 'x2', 'x3']], df['y'].to_numpy())],\n",
        "    eval_metric='poisson',\n",
        "    eval_names=['Train'],\n",
        "    verbose=20,\n",
        ")"
      ],
      "execution_count": 7,
      "outputs": [
        {
          "output_type": "stream",
          "name": "stdout",
          "text": [
            "[20]\tTrain's poisson: 0.879023\n",
            "[40]\tTrain's poisson: 0.819204\n",
            "[60]\tTrain's poisson: 0.77684\n",
            "[80]\tTrain's poisson: 0.74138\n",
            "[100]\tTrain's poisson: 0.71657\n"
          ]
        },
        {
          "output_type": "execute_result",
          "data": {
            "text/plain": [
              "LGBMRegressor(boosting_type='gbdt', class_weight=None, colsample_bytree=1.0,\n",
              "              importance_type='split', learning_rate=0.1, max_depth=-1,\n",
              "              min_child_samples=20, min_child_weight=0.001, min_split_gain=0.0,\n",
              "              n_estimators=100, n_jobs=-1, num_leaves=31, objective='poisson',\n",
              "              random_state=None, reg_alpha=0.0, reg_lambda=0.0, silent=True,\n",
              "              subsample=1.0, subsample_for_bin=200000, subsample_freq=0)"
            ]
          },
          "metadata": {},
          "execution_count": 7
        }
      ]
    },
    {
      "cell_type": "code",
      "metadata": {
        "colab": {
          "base_uri": "https://localhost:8080/",
          "height": 404
        },
        "id": "3UDXNbPxnewX",
        "outputId": "44ebfd0e-9067-4c17-faa5-9b9a208cfd15"
      },
      "source": [
        "# Plot Poisson evaluation metric against boosting iterations\n",
        "lgb.plot_metric(model, metric='poisson', figsize=(8,6))\n",
        "plt.show()"
      ],
      "execution_count": 8,
      "outputs": [
        {
          "output_type": "display_data",
          "data": {
            "image/png": "[encoded data removed]",
            "text/plain": [
              "<Figure size 576x432 with 1 Axes>"
            ]
          },
          "metadata": {
            "needs_background": "light"
          }
        }
      ]
    },
    {
      "cell_type": "markdown",
      "metadata": {
        "id": "z-dEBTmwXF2Q"
      },
      "source": [
        "#### Run Poisson regression utilizing custom Poisson objective and evaluation functions"
      ]
    },
    {
      "cell_type": "code",
      "metadata": {
        "colab": {
          "base_uri": "https://localhost:8080/"
        },
        "id": "M41PavJsPLRg",
        "outputId": "12f45425-1c74-4b48-86e6-e9cab347cbbd"
      },
      "source": [
        "model = lgb.LGBMRegressor(\n",
        "    objective=poisson_loss,\n",
        "    learning_rate=0.1,\n",
        "    n_estimators=100\n",
        ")\n",
        "\n",
        "# using LightGBM's scikit-learn API\n",
        "# to make the results match, the init_score is set to the log of the mean of\n",
        "# the target values.\n",
        "model.fit(\n",
        "    df[['x1', 'x2', 'x3']].to_numpy(),\n",
        "    df['y'].to_numpy(),\n",
        "    init_score=np.repeat([np.log(np.mean(df['y']))], len(df['y'])),\n",
        "    eval_set=[(df[['x1', 'x2', 'x3']], df['y'].to_numpy())],\n",
        "    eval_metric=poisson_eval_metric,\n",
        "    eval_names=['Train'],\n",
        "    verbose=20,\n",
        ")"
      ],
      "execution_count": 9,
      "outputs": [
        {
          "output_type": "stream",
          "name": "stdout",
          "text": [
            "[20]\tTrain's poisson_metric: 0.879023\n",
            "[40]\tTrain's poisson_metric: 0.819204\n",
            "[60]\tTrain's poisson_metric: 0.77684\n",
            "[80]\tTrain's poisson_metric: 0.74138\n",
            "[100]\tTrain's poisson_metric: 0.71657\n"
          ]
        },
        {
          "output_type": "execute_result",
          "data": {
            "text/plain": [
              "LGBMRegressor(boosting_type='gbdt', class_weight=None, colsample_bytree=1.0,\n",
              "              importance_type='split', learning_rate=0.1, max_depth=-1,\n",
              "              min_child_samples=20, min_child_weight=0.001, min_split_gain=0.0,\n",
              "              n_estimators=100, n_jobs=-1, num_leaves=31,\n",
              "              objective=<function poisson_loss at 0x7fe082c19050>,\n",
              "              random_state=None, reg_alpha=0.0, reg_lambda=0.0, silent=True,\n",
              "              subsample=1.0, subsample_for_bin=200000, subsample_freq=0)"
            ]
          },
          "metadata": {},
          "execution_count": 9
        }
      ]
    },
    {
      "cell_type": "code",
      "metadata": {
        "colab": {
          "base_uri": "https://localhost:8080/",
          "height": 404
        },
        "id": "i68xD41DoHl6",
        "outputId": "c2ac6ea2-ac54-415f-baf0-d9c6dd478d2f"
      },
      "source": [
        "# Plot Poisson evaluation metric against boosting iterations\n",
        "lgb.plot_metric(model, metric='poisson_metric', figsize=(8,6))\n",
        "plt.show()"
      ],
      "execution_count": 11,
      "outputs": [
        {
          "output_type": "display_data",
          "data": {
            "image/png": "[encoded data removed]",
            "text/plain": [
              "<Figure size 576x432 with 1 Axes>"
            ]
          },
          "metadata": {
            "needs_background": "light"
          }
        }
      ]
    }
  ]
}